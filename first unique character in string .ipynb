{
 "cells": [
  {
   "cell_type": "markdown",
   "id": "fed3d5d5-a6d6-4b72-b180-121f25895cb0",
   "metadata": {},
   "source": [
    "## FIRST UNIQUE CHARACTER IN STRING"
   ]
  },
  {
   "cell_type": "markdown",
   "id": "7d581246-ccb2-4e9b-96a4-b0975ee55e3a",
   "metadata": {},
   "source": [
    "## ANSWER"
   ]
  },
  {
   "cell_type": "code",
   "execution_count": 1,
   "id": "1f47375e-967a-4ac8-92ad-38ccd858cbb8",
   "metadata": {},
   "outputs": [],
   "source": [
    "def firstUniqChar(s):\n",
    "    char_count = {}\n",
    "    \n",
    "    # Count the frequency of each character\n",
    "    for char in s:\n",
    "        char_count[char] = char_count.get(char, 0) + 1\n",
    "    \n",
    "    # Find the index of the first non-repeating character\n",
    "    for i, char in enumerate(s):\n",
    "        if char_count[char] == 1:\n",
    "            return i\n",
    "    \n",
    "    return -1\n"
   ]
  },
  {
   "cell_type": "code",
   "execution_count": 2,
   "id": "a3567531-1d87-4755-ad61-39f7726c5f86",
   "metadata": {},
   "outputs": [
    {
     "name": "stdout",
     "output_type": "stream",
     "text": [
      "0\n"
     ]
    }
   ],
   "source": [
    "string = \"leetcode\"\n",
    "print(firstUniqChar(string))\n"
   ]
  },
  {
   "cell_type": "code",
   "execution_count": null,
   "id": "8ef0e4bd-ef10-4639-9466-2092a67bd901",
   "metadata": {},
   "outputs": [],
   "source": []
  },
  {
   "cell_type": "code",
   "execution_count": null,
   "id": "81546abc-149d-453f-b2b1-d98cbe4329f2",
   "metadata": {},
   "outputs": [],
   "source": []
  }
 ],
 "metadata": {
  "kernelspec": {
   "display_name": "Python 3 (ipykernel)",
   "language": "python",
   "name": "python3"
  },
  "language_info": {
   "codemirror_mode": {
    "name": "ipython",
    "version": 3
   },
   "file_extension": ".py",
   "mimetype": "text/x-python",
   "name": "python",
   "nbconvert_exporter": "python",
   "pygments_lexer": "ipython3",
   "version": "3.10.8"
  }
 },
 "nbformat": 4,
 "nbformat_minor": 5
}
